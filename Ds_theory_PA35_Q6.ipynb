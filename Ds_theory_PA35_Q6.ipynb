{
  "nbformat": 4,
  "nbformat_minor": 0,
  "metadata": {
    "colab": {
      "name": "Ds theory PA35 Q6.ipynb",
      "provenance": [],
      "authorship_tag": "ABX9TyPz1ieZ4g35SJFOb7rGMCTL",
      "include_colab_link": true
    },
    "kernelspec": {
      "name": "python3",
      "display_name": "Python 3"
    }
  },
  "cells": [
    {
      "cell_type": "markdown",
      "metadata": {
        "id": "view-in-github",
        "colab_type": "text"
      },
      "source": [
        "<a href=\"https://colab.research.google.com/github/lakshitajain/Hello_World/blob/master/Ds_theory_PA35_Q6.ipynb\" target=\"_parent\"><img src=\"https://colab.research.google.com/assets/colab-badge.svg\" alt=\"Open In Colab\"/></a>"
      ]
    },
    {
      "cell_type": "code",
      "metadata": {
        "id": "Vy3cCSEz34Xz",
        "colab_type": "code",
        "colab": {}
      },
      "source": [
        "import numpy as np\n",
        "import pandas as pd\n",
        "import math\n",
        "\n"
      ],
      "execution_count": 17,
      "outputs": []
    },
    {
      "cell_type": "code",
      "metadata": {
        "id": "Oo6yMdO8CYbh",
        "colab_type": "code",
        "colab": {}
      },
      "source": [
        "#Find the mean, median, mode, and range for the following list of values:\n",
        "#13, 18, 13, 14, 13, 16, 14, 21, 13\n",
        "\n",
        "l=[13,18,13,14,13,16,14,21,13] # given series of data"
      ],
      "execution_count": null,
      "outputs": []
    },
    {
      "cell_type": "code",
      "metadata": {
        "id": "MYs0dHntCq-6",
        "colab_type": "code",
        "colab": {
          "base_uri": "https://localhost:8080/",
          "height": 34
        },
        "outputId": "2a3d16eb-3da3-42c4-dcff-a5dfb8cba624"
      },
      "source": [
        "mean=0\n",
        "mean= sum(l)/len(l)     # mean= sum of the data/ number of items in the data.\n",
        "#this can also be done by using np.mean(l)\n",
        "print(\"Mean of the given data is: \",mean)"
      ],
      "execution_count": null,
      "outputs": [
        {
          "output_type": "stream",
          "text": [
            "Mean of the given data is:  15.0\n"
          ],
          "name": "stdout"
        }
      ]
    },
    {
      "cell_type": "code",
      "metadata": {
        "id": "83cU-R2-FTfu",
        "colab_type": "code",
        "colab": {
          "base_uri": "https://localhost:8080/",
          "height": 34
        },
        "outputId": "4f1f9691-e9ac-4350-db37-af449c4c6039"
      },
      "source": [
        "\n",
        "print(\"Median of the given data is :\",np.median(l)) # median=(n+1)/2 th data if n is odd ,the average of n/2th and (n/2)+1 th terms if n is even."
      ],
      "execution_count": null,
      "outputs": [
        {
          "output_type": "stream",
          "text": [
            "Median of the given data is : 14.0\n"
          ],
          "name": "stdout"
        }
      ]
    },
    {
      "cell_type": "code",
      "metadata": {
        "id": "uyKhlj-7C4n7",
        "colab_type": "code",
        "colab": {
          "base_uri": "https://localhost:8080/",
          "height": 34
        },
        "outputId": "343f5eb4-fb16-4a34-ed30-97f5c50ec8bf"
      },
      "source": [
        "range= 0\n",
        "range= max(l)-min(l)\n",
        "print(\"range of the given data is : \",range) # range of a given data is the difference between the highest and the least value in the data "
      ],
      "execution_count": null,
      "outputs": [
        {
          "output_type": "stream",
          "text": [
            "range of the given data is :  8\n"
          ],
          "name": "stdout"
        }
      ]
    },
    {
      "cell_type": "code",
      "metadata": {
        "id": "jK51sb5CE0CV",
        "colab_type": "code",
        "colab": {}
      },
      "source": [
        "#Question 7 solution \n",
        "#Following is the data of marks obtained by 20 students in a test of statistics, Find first, second, and third (Q1, Q2, and Q3) quartiles. \n",
        "\n",
        "l1=[53,74,82,42,39,20,81,68,58,28,67,54,93,70,30,55,36,37,29,61]\n"
      ],
      "execution_count": 14,
      "outputs": []
    },
    {
      "cell_type": "code",
      "metadata": {
        "id": "XVCLJhI1S3tZ",
        "colab_type": "code",
        "colab": {}
      },
      "source": [
        ""
      ],
      "execution_count": null,
      "outputs": []
    },
    {
      "cell_type": "code",
      "metadata": {
        "id": "C89Fa1m8S5sc",
        "colab_type": "code",
        "colab": {}
      },
      "source": [
        ""
      ],
      "execution_count": null,
      "outputs": []
    },
    {
      "cell_type": "code",
      "metadata": {
        "id": "W8Z_-jLZS58x",
        "colab_type": "code",
        "colab": {}
      },
      "source": [
        ""
      ],
      "execution_count": null,
      "outputs": []
    },
    {
      "cell_type": "code",
      "metadata": {
        "id": "j-A0AE70R4M6",
        "colab_type": "code",
        "colab": {}
      },
      "source": [
        "#Q 8 solution\n",
        "#60 g, 56 g, 61 g, 68 g, 51 g, 53 g, 69 g, 54 g. find standard deviation\n",
        "l2=[60, 56, 61, 68, 51, 53, 69, 54]"
      ],
      "execution_count": 19,
      "outputs": []
    },
    {
      "cell_type": "code",
      "metadata": {
        "id": "qBbgNJ92KVsj",
        "colab_type": "code",
        "colab": {
          "base_uri": "https://localhost:8080/",
          "height": 34
        },
        "outputId": "75a62106-5cd9-4c56-d210-5cce2c8a3afe"
      },
      "source": [
        "sigma=0\n",
        "#The standard deviation is the square root of the average of the squared deviations from the mean.\n",
        "def calculate_stdev(l2):\n",
        "  n=len(l2)\n",
        "  for x in l2:\n",
        "    sigma = 0\n",
        "    sigma += (x - mean) ** 2\n",
        "    sigma = math.sqrt(sigma /n) \n",
        "    return sigma\n",
        "print(\"The standard deviation of the given data is: \",calculate_stdev(l2))     \n",
        "\n"
      ],
      "execution_count": 21,
      "outputs": [
        {
          "output_type": "stream",
          "text": [
            "The standard deviation of the given data is:  15.90990257669732\n"
          ],
          "name": "stdout"
        }
      ]
    },
    {
      "cell_type": "code",
      "metadata": {
        "id": "OwXQpu9ORdHB",
        "colab_type": "code",
        "colab": {}
      },
      "source": [
        ""
      ],
      "execution_count": null,
      "outputs": []
    }
  ]
}